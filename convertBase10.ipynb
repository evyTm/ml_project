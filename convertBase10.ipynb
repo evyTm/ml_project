{
 "cells": [
  {
   "cell_type": "code",
   "execution_count": 39,
   "metadata": {},
   "outputs": [
    {
     "name": "stdout",
     "output_type": "stream",
     "text": [
      "A\n"
     ]
    }
   ],
   "source": [
    "import math\n",
    "\n",
    "def convertBase10(num, base):\n",
    "    numToChar = {i:\"0123456789ABCDEF\"[i] for i in range(16)}\n",
    "    power = int(math.log(num,base))\n",
    "    converted=''\n",
    "    \n",
    "    for pow in range(power, -1, -1):\n",
    "        converted+=numToChar[num//(base**pow)] #Divide\n",
    "        num%=base**pow #Remainder\n",
    "    \n",
    "    return converted\n",
    "\n",
    "#print(convertBase10(10,16))"
   ]
  }
 ],
 "metadata": {
  "interpreter": {
   "hash": "41014f37ce08bde77ecab1a585fc4d41f1b950404458b090da233fe766a0394a"
  },
  "kernelspec": {
   "display_name": "Python 3.8.8 ('base')",
   "language": "python",
   "name": "python3"
  },
  "language_info": {
   "codemirror_mode": {
    "name": "ipython",
    "version": 3
   },
   "file_extension": ".py",
   "mimetype": "text/x-python",
   "name": "python",
   "nbconvert_exporter": "python",
   "pygments_lexer": "ipython3",
   "version": "3.8.8"
  },
  "orig_nbformat": 4
 },
 "nbformat": 4,
 "nbformat_minor": 2
}
