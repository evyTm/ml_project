{
 "cells": [
  {
   "cell_type": "code",
   "execution_count": 1,
   "metadata": {},
   "outputs": [
    {
     "data": {
      "text/html": [
       "<div>\n",
       "<style scoped>\n",
       "    .dataframe tbody tr th:only-of-type {\n",
       "        vertical-align: middle;\n",
       "    }\n",
       "\n",
       "    .dataframe tbody tr th {\n",
       "        vertical-align: top;\n",
       "    }\n",
       "\n",
       "    .dataframe thead th {\n",
       "        text-align: right;\n",
       "    }\n",
       "</style>\n",
       "<table border=\"1\" class=\"dataframe\">\n",
       "  <thead>\n",
       "    <tr style=\"text-align: right;\">\n",
       "      <th></th>\n",
       "      <th>title</th>\n",
       "      <th>year</th>\n",
       "      <th>name</th>\n",
       "      <th>type</th>\n",
       "      <th>character</th>\n",
       "      <th>n</th>\n",
       "    </tr>\n",
       "  </thead>\n",
       "  <tbody>\n",
       "    <tr>\n",
       "      <th>0</th>\n",
       "      <td>Suuri illusioni</td>\n",
       "      <td>1985</td>\n",
       "      <td>Homo $</td>\n",
       "      <td>actor</td>\n",
       "      <td>Guests</td>\n",
       "      <td>22.0</td>\n",
       "    </tr>\n",
       "    <tr>\n",
       "      <th>1</th>\n",
       "      <td>Gangsta Rap: The Glockumentary</td>\n",
       "      <td>2007</td>\n",
       "      <td>Too $hort</td>\n",
       "      <td>actor</td>\n",
       "      <td>Himself</td>\n",
       "      <td>NaN</td>\n",
       "    </tr>\n",
       "    <tr>\n",
       "      <th>2</th>\n",
       "      <td>Menace II Society</td>\n",
       "      <td>1993</td>\n",
       "      <td>Too $hort</td>\n",
       "      <td>actor</td>\n",
       "      <td>Lew-Loc</td>\n",
       "      <td>27.0</td>\n",
       "    </tr>\n",
       "    <tr>\n",
       "      <th>3</th>\n",
       "      <td>Porndogs: The Adventures of Sadie</td>\n",
       "      <td>2009</td>\n",
       "      <td>Too $hort</td>\n",
       "      <td>actor</td>\n",
       "      <td>Bosco</td>\n",
       "      <td>3.0</td>\n",
       "    </tr>\n",
       "    <tr>\n",
       "      <th>4</th>\n",
       "      <td>Stop Pepper Palmer</td>\n",
       "      <td>2014</td>\n",
       "      <td>Too $hort</td>\n",
       "      <td>actor</td>\n",
       "      <td>Himself</td>\n",
       "      <td>NaN</td>\n",
       "    </tr>\n",
       "  </tbody>\n",
       "</table>\n",
       "</div>"
      ],
      "text/plain": [
       "                               title  year       name   type character     n\n",
       "0                    Suuri illusioni  1985     Homo $  actor    Guests  22.0\n",
       "1     Gangsta Rap: The Glockumentary  2007  Too $hort  actor   Himself   NaN\n",
       "2                  Menace II Society  1993  Too $hort  actor   Lew-Loc  27.0\n",
       "3  Porndogs: The Adventures of Sadie  2009  Too $hort  actor     Bosco   3.0\n",
       "4                 Stop Pepper Palmer  2014  Too $hort  actor   Himself   NaN"
      ]
     },
     "execution_count": 1,
     "metadata": {},
     "output_type": "execute_result"
    }
   ],
   "source": [
    "import pandas as pd\n",
    "\n",
    "cast=pd.read_csv('cast.csv')\n",
    "\n",
    "cast.head()"
   ]
  },
  {
   "cell_type": "code",
   "execution_count": 14,
   "metadata": {},
   "outputs": [
    {
     "name": "stdout",
     "output_type": "stream",
     "text": [
      "1.  299\n",
      "1.  187\n"
     ]
    }
   ],
   "source": [
    "print('1. ',cast['title'].value_counts()['Hamlet'])"
   ]
  },
  {
   "cell_type": "code",
   "execution_count": 32,
   "metadata": {},
   "outputs": [
    {
     "name": "stdout",
     "output_type": "stream",
     "text": [
      "2. \n"
     ]
    },
    {
     "data": {
      "text/html": [
       "<div>\n",
       "<style scoped>\n",
       "    .dataframe tbody tr th:only-of-type {\n",
       "        vertical-align: middle;\n",
       "    }\n",
       "\n",
       "    .dataframe tbody tr th {\n",
       "        vertical-align: top;\n",
       "    }\n",
       "\n",
       "    .dataframe thead th {\n",
       "        text-align: right;\n",
       "    }\n",
       "</style>\n",
       "<table border=\"1\" class=\"dataframe\">\n",
       "  <thead>\n",
       "    <tr style=\"text-align: right;\">\n",
       "      <th></th>\n",
       "      <th>title</th>\n",
       "      <th>year</th>\n",
       "      <th>name</th>\n",
       "      <th>type</th>\n",
       "      <th>character</th>\n",
       "      <th>n</th>\n",
       "    </tr>\n",
       "  </thead>\n",
       "  <tbody>\n",
       "    <tr>\n",
       "      <th>2454056</th>\n",
       "      <td>Treasure Island</td>\n",
       "      <td>1918</td>\n",
       "      <td>Virginia Lee Corbin</td>\n",
       "      <td>actress</td>\n",
       "      <td>Louise Trelawney</td>\n",
       "      <td>2.0</td>\n",
       "    </tr>\n",
       "    <tr>\n",
       "      <th>1195421</th>\n",
       "      <td>Treasure Island</td>\n",
       "      <td>1918</td>\n",
       "      <td>Elmo Lincoln</td>\n",
       "      <td>actor</td>\n",
       "      <td>Prologue Player</td>\n",
       "      <td>NaN</td>\n",
       "    </tr>\n",
       "    <tr>\n",
       "      <th>1801138</th>\n",
       "      <td>Treasure Island</td>\n",
       "      <td>1918</td>\n",
       "      <td>Lewis Sargent</td>\n",
       "      <td>actor</td>\n",
       "      <td>Ben Gunn</td>\n",
       "      <td>5.0</td>\n",
       "    </tr>\n",
       "    <tr>\n",
       "      <th>313097</th>\n",
       "      <td>Treasure Island</td>\n",
       "      <td>1918</td>\n",
       "      <td>Francis Carpenter</td>\n",
       "      <td>actor</td>\n",
       "      <td>Jim Hawkins</td>\n",
       "      <td>1.0</td>\n",
       "    </tr>\n",
       "    <tr>\n",
       "      <th>842286</th>\n",
       "      <td>Treasure Island</td>\n",
       "      <td>1918</td>\n",
       "      <td>Edwin Harley</td>\n",
       "      <td>actor</td>\n",
       "      <td>Prologue Player</td>\n",
       "      <td>NaN</td>\n",
       "    </tr>\n",
       "    <tr>\n",
       "      <th>...</th>\n",
       "      <td>...</td>\n",
       "      <td>...</td>\n",
       "      <td>...</td>\n",
       "      <td>...</td>\n",
       "      <td>...</td>\n",
       "      <td>...</td>\n",
       "    </tr>\n",
       "    <tr>\n",
       "      <th>2454768</th>\n",
       "      <td>National Theatre Live: Treasure Island</td>\n",
       "      <td>2015</td>\n",
       "      <td>Claire-Louise Cordwell</td>\n",
       "      <td>actress</td>\n",
       "      <td>Joan the Goat</td>\n",
       "      <td>NaN</td>\n",
       "    </tr>\n",
       "    <tr>\n",
       "      <th>2194697</th>\n",
       "      <td>National Theatre Live: Treasure Island</td>\n",
       "      <td>2015</td>\n",
       "      <td>Roger (XIII) Wilson</td>\n",
       "      <td>actor</td>\n",
       "      <td>Shanty Singer</td>\n",
       "      <td>NaN</td>\n",
       "    </tr>\n",
       "    <tr>\n",
       "      <th>1558129</th>\n",
       "      <td>National Theatre Live: Treasure Island</td>\n",
       "      <td>2015</td>\n",
       "      <td>Alastair Parker</td>\n",
       "      <td>actor</td>\n",
       "      <td>Killigrew the Kind</td>\n",
       "      <td>NaN</td>\n",
       "    </tr>\n",
       "    <tr>\n",
       "      <th>2530199</th>\n",
       "      <td>National Theatre Live: Treasure Island</td>\n",
       "      <td>2015</td>\n",
       "      <td>Heather Dutton</td>\n",
       "      <td>actress</td>\n",
       "      <td>Red Ruth</td>\n",
       "      <td>NaN</td>\n",
       "    </tr>\n",
       "    <tr>\n",
       "      <th>414026</th>\n",
       "      <td>National Theatre Live: Treasure Island</td>\n",
       "      <td>2015</td>\n",
       "      <td>Daniel Coonan</td>\n",
       "      <td>actor</td>\n",
       "      <td>Black Dog</td>\n",
       "      <td>NaN</td>\n",
       "    </tr>\n",
       "  </tbody>\n",
       "</table>\n",
       "<p>524 rows × 6 columns</p>\n",
       "</div>"
      ],
      "text/plain": [
       "                                          title  year                    name  \\\n",
       "2454056                         Treasure Island  1918     Virginia Lee Corbin   \n",
       "1195421                         Treasure Island  1918            Elmo Lincoln   \n",
       "1801138                         Treasure Island  1918           Lewis Sargent   \n",
       "313097                          Treasure Island  1918       Francis Carpenter   \n",
       "842286                          Treasure Island  1918            Edwin Harley   \n",
       "...                                         ...   ...                     ...   \n",
       "2454768  National Theatre Live: Treasure Island  2015  Claire-Louise Cordwell   \n",
       "2194697  National Theatre Live: Treasure Island  2015     Roger (XIII) Wilson   \n",
       "1558129  National Theatre Live: Treasure Island  2015         Alastair Parker   \n",
       "2530199  National Theatre Live: Treasure Island  2015          Heather Dutton   \n",
       "414026   National Theatre Live: Treasure Island  2015           Daniel Coonan   \n",
       "\n",
       "            type           character    n  \n",
       "2454056  actress    Louise Trelawney  2.0  \n",
       "1195421    actor     Prologue Player  NaN  \n",
       "1801138    actor            Ben Gunn  5.0  \n",
       "313097     actor         Jim Hawkins  1.0  \n",
       "842286     actor     Prologue Player  NaN  \n",
       "...          ...                 ...  ...  \n",
       "2454768  actress       Joan the Goat  NaN  \n",
       "2194697    actor       Shanty Singer  NaN  \n",
       "1558129    actor  Killigrew the Kind  NaN  \n",
       "2530199  actress            Red Ruth  NaN  \n",
       "414026     actor           Black Dog  NaN  \n",
       "\n",
       "[524 rows x 6 columns]"
      ]
     },
     "execution_count": 32,
     "metadata": {},
     "output_type": "execute_result"
    }
   ],
   "source": [
    "print('2. ')\n",
    "cast[cast['title'].str.contains('Treasure Island')].sort_values(by=['year'])"
   ]
  },
  {
   "cell_type": "code",
   "execution_count": 61,
   "metadata": {},
   "outputs": [
    {
     "name": "stdout",
     "output_type": "stream",
     "text": [
      "3. \n"
     ]
    },
    {
     "data": {
      "text/html": [
       "<div>\n",
       "<style scoped>\n",
       "    .dataframe tbody tr th:only-of-type {\n",
       "        vertical-align: middle;\n",
       "    }\n",
       "\n",
       "    .dataframe tbody tr th {\n",
       "        vertical-align: top;\n",
       "    }\n",
       "\n",
       "    .dataframe thead th {\n",
       "        text-align: right;\n",
       "    }\n",
       "</style>\n",
       "<table border=\"1\" class=\"dataframe\">\n",
       "  <thead>\n",
       "    <tr style=\"text-align: right;\">\n",
       "      <th></th>\n",
       "      <th>title</th>\n",
       "      <th>year</th>\n",
       "      <th>name</th>\n",
       "      <th>type</th>\n",
       "      <th>character</th>\n",
       "      <th>n</th>\n",
       "    </tr>\n",
       "  </thead>\n",
       "  <tbody>\n",
       "    <tr>\n",
       "      <th>6710</th>\n",
       "      <td>Hamlet</td>\n",
       "      <td>1921</td>\n",
       "      <td>Fritz Achterberg</td>\n",
       "      <td>actor</td>\n",
       "      <td>Fortinbras,</td>\n",
       "      <td>9.0</td>\n",
       "    </tr>\n",
       "    <tr>\n",
       "      <th>408456</th>\n",
       "      <td>Hamlet</td>\n",
       "      <td>1921</td>\n",
       "      <td>Paul Conradi</td>\n",
       "      <td>actor</td>\n",
       "      <td>K?nig Hamlet</td>\n",
       "      <td>2.0</td>\n",
       "    </tr>\n",
       "    <tr>\n",
       "      <th>495468</th>\n",
       "      <td>Hamlet</td>\n",
       "      <td>1921</td>\n",
       "      <td>Anton De Verdier</td>\n",
       "      <td>actor</td>\n",
       "      <td>Laertes</td>\n",
       "      <td>7.0</td>\n",
       "    </tr>\n",
       "    <tr>\n",
       "      <th>1015046</th>\n",
       "      <td>Hamlet</td>\n",
       "      <td>1921</td>\n",
       "      <td>Hans Junkermann</td>\n",
       "      <td>actor</td>\n",
       "      <td>Polonius</td>\n",
       "      <td>6.0</td>\n",
       "    </tr>\n",
       "    <tr>\n",
       "      <th>1948795</th>\n",
       "      <td>Hamlet</td>\n",
       "      <td>1921</td>\n",
       "      <td>Heinz Stieda</td>\n",
       "      <td>actor</td>\n",
       "      <td>Horatio</td>\n",
       "      <td>5.0</td>\n",
       "    </tr>\n",
       "    <tr>\n",
       "      <th>2116906</th>\n",
       "      <td>Hamlet</td>\n",
       "      <td>1921</td>\n",
       "      <td>Eduard von Winterstein</td>\n",
       "      <td>actor</td>\n",
       "      <td>Claudius</td>\n",
       "      <td>4.0</td>\n",
       "    </tr>\n",
       "    <tr>\n",
       "      <th>2370048</th>\n",
       "      <td>Hamlet</td>\n",
       "      <td>1921</td>\n",
       "      <td>Mathilde Brandt</td>\n",
       "      <td>actress</td>\n",
       "      <td>K?nigin Gertrude</td>\n",
       "      <td>3.0</td>\n",
       "    </tr>\n",
       "    <tr>\n",
       "      <th>2713980</th>\n",
       "      <td>Hamlet</td>\n",
       "      <td>1921</td>\n",
       "      <td>Lilly Jacobson</td>\n",
       "      <td>actress</td>\n",
       "      <td>Ophelia</td>\n",
       "      <td>8.0</td>\n",
       "    </tr>\n",
       "    <tr>\n",
       "      <th>2964897</th>\n",
       "      <td>Hamlet</td>\n",
       "      <td>1921</td>\n",
       "      <td>Asta Nielsen</td>\n",
       "      <td>actress</td>\n",
       "      <td>Hamlet</td>\n",
       "      <td>1.0</td>\n",
       "    </tr>\n",
       "  </tbody>\n",
       "</table>\n",
       "</div>"
      ],
      "text/plain": [
       "          title  year                    name     type         character    n\n",
       "6710     Hamlet  1921        Fritz Achterberg    actor       Fortinbras,  9.0\n",
       "408456   Hamlet  1921            Paul Conradi    actor      K?nig Hamlet  2.0\n",
       "495468   Hamlet  1921        Anton De Verdier    actor           Laertes  7.0\n",
       "1015046  Hamlet  1921         Hans Junkermann    actor          Polonius  6.0\n",
       "1948795  Hamlet  1921            Heinz Stieda    actor           Horatio  5.0\n",
       "2116906  Hamlet  1921  Eduard von Winterstein    actor          Claudius  4.0\n",
       "2370048  Hamlet  1921         Mathilde Brandt  actress  K?nigin Gertrude  3.0\n",
       "2713980  Hamlet  1921          Lilly Jacobson  actress           Ophelia  8.0\n",
       "2964897  Hamlet  1921            Asta Nielsen  actress            Hamlet  1.0"
      ]
     },
     "execution_count": 61,
     "metadata": {},
     "output_type": "execute_result"
    }
   ],
   "source": [
    "print('3. ')\n",
    "cast[(cast['title'].str.contains('Hamlet')) & (cast.year==1921)]"
   ]
  },
  {
   "cell_type": "code",
   "execution_count": 82,
   "metadata": {},
   "outputs": [
    {
     "name": "stdout",
     "output_type": "stream",
     "text": [
      "4. \n"
     ]
    },
    {
     "name": "stderr",
     "output_type": "stream",
     "text": [
      "<ipython-input-82-9aee53928f6a>:3: SettingWithCopyWarning: \n",
      "A value is trying to be set on a copy of a slice from a DataFrame.\n",
      "Try using .loc[row_indexer,col_indexer] = value instead\n",
      "\n",
      "See the caveats in the documentation: https://pandas.pydata.org/pandas-docs/stable/user_guide/indexing.html#returning-a-view-versus-a-copy\n",
      "  ca1['year']=ca1['year']-(ca1['year']%10)\n"
     ]
    },
    {
     "data": {
      "text/plain": [
       "title                                    year\n",
       "A Sagebrush Hamlet                       1910    10\n",
       "Dogg's Hamlet, Cahoot's Macbeth          2000    39\n",
       "Fuck Hamlet                              1990     2\n",
       "Green Eggs and Hamlet                    1990    11\n",
       "Hamlet                                   1910    28\n",
       "                                         1920     9\n",
       "                                         1940    25\n",
       "                                         1950     1\n",
       "                                         1960    57\n",
       "                                         1970    19\n",
       "                                         1980     3\n",
       "                                         1990    84\n",
       "                                         2000    55\n",
       "                                         2010    18\n",
       "Hamlet (II)                              1960    21\n",
       "                                         2000    36\n",
       "                                         2010    11\n",
       "Hamlet (III)                             2000     2\n",
       "                                         2010    15\n",
       "Hamlet 2                                 2000    52\n",
       "Hamlet A.D.D.                            2010    66\n",
       "Hamlet Unbound                           2010     1\n",
       "Hamlet X                                 2000     1\n",
       "Hamlet in the Hamptons                   2000    18\n",
       "Hamlet liikemaailmassa                   1980    14\n",
       "Hamlet the Vampire Slayer                2000    11\n",
       "Hamlet's Ghost                           2010    61\n",
       "Hamlet, Prince of Denmark                1990    12\n",
       "Hamlet, Son of a Kingpin                 2010    17\n",
       "Hamlet: Prince of Denmark                1980     1\n",
       "Hamlet_X                                 2000    58\n",
       "Han, hun og Hamlet                       1920     9\n",
       "                                         1930    17\n",
       "Harry, Hamlet and I                      2010    11\n",
       "Kadin Hamlet                             1970     4\n",
       "Kitchen Hamlet                           2000    17\n",
       "National Theatre Live: Hamlet            2010    23\n",
       "Predstava 'Hamleta' u Mrdusi Donjoj      1970    14\n",
       "The Tragedy of Hamlet Prince of Denmark  2000     5\n",
       "Zombie Hamlet                            2010    33\n",
       "Name: title, dtype: int64"
      ]
     },
     "execution_count": 82,
     "metadata": {},
     "output_type": "execute_result"
    }
   ],
   "source": [
    "print('4. ')\n",
    "ca4=cast[(cast['title'].str.contains('Hamlet'))]\n",
    "ca4['year']=ca4['year']-(ca4['year']%10)\n",
    "ca4.groupby(['title','year'])['title'].count()"
   ]
  },
  {
   "cell_type": "code",
   "execution_count": 85,
   "metadata": {},
   "outputs": [
    {
     "name": "stdout",
     "output_type": "stream",
     "text": [
      "5. \n"
     ]
    },
    {
     "data": {
      "text/plain": [
       "n    type   \n",
       "1.0  actor      604\n",
       "     actress    271\n",
       "Name: n, dtype: int64"
      ]
     },
     "execution_count": 85,
     "metadata": {},
     "output_type": "execute_result"
    }
   ],
   "source": [
    "print('5. ')\n",
    "ca5=cast[(cast.n==1) & (cast.year==1950)]\n",
    "ca5.groupby(['n','type'])['n'].count()"
   ]
  },
  {
   "cell_type": "code",
   "execution_count": 147,
   "metadata": {},
   "outputs": [
    {
     "name": "stdout",
     "output_type": "stream",
     "text": [
      "6. \n"
     ]
    },
    {
     "data": {
      "text/plain": [
       "name\n",
       "Mohanlal              126\n",
       "Mammootty             118\n",
       "Akshay Kumar           87\n",
       "Jayaram                76\n",
       "Andy Lau               72\n",
       "Ajay Devgn             69\n",
       "Amitabh Bachchan       68\n",
       "Eric Roberts           68\n",
       "Nagarjuna Akkineni     60\n",
       "Dilip                  59\n",
       "Name: n, dtype: int64"
      ]
     },
     "execution_count": 147,
     "metadata": {},
     "output_type": "execute_result"
    }
   ],
   "source": [
    "print('6. ')\n",
    "ca6=cast[(cast.n==1) & (cast.year>=1990)]\n",
    "ca6=ca6.groupby(['name'])['n']\n",
    "ca6=ca6.count().nlargest(10)\n",
    "ca6"
   ]
  },
  {
   "cell_type": "code",
   "execution_count": 187,
   "metadata": {},
   "outputs": [
    {
     "name": "stdout",
     "output_type": "stream",
     "text": [
      "7. \n"
     ]
    },
    {
     "data": {
      "text/plain": [
       "year  title                      name             \n",
       "1916  A Stranger from Somewhere  Franklyn Farnum      2\n",
       "1917  The Winged Mystery         Franklyn Farnum      2\n",
       "1918  The Curse of Iku           Frank Borzage        2\n",
       "      The Rough Lover            Franklyn Farnum      2\n",
       "1919  Brothers Divided           Frank Keenan         2\n",
       "      The Midnight Stage         Frank Keenan         2\n",
       "1922  Smiling Jim                Franklyn Farnum      2\n",
       "1927  My Friend from India       Franklin Pangborn    2\n",
       "1929  Tarzan the Tiger           Frank Merrill        2\n",
       "1938  Double or Quits            Frank Fox            2\n",
       "Name: n, dtype: int64"
      ]
     },
     "execution_count": 187,
     "metadata": {},
     "output_type": "execute_result"
    }
   ],
   "source": [
    "print('7. ')\n",
    "ca7=cast[(cast['name'].str.contains('Frank')) & (cast.n==1)]\n",
    "ca7=ca7.groupby(['year','title','name'], sort = True)['n']\n",
    "ca7=ca7.count().nlargest(10)\n",
    "ca7"
   ]
  }
 ],
 "metadata": {
  "interpreter": {
   "hash": "41014f37ce08bde77ecab1a585fc4d41f1b950404458b090da233fe766a0394a"
  },
  "kernelspec": {
   "display_name": "Python 3.8.8 ('base')",
   "language": "python",
   "name": "python3"
  },
  "language_info": {
   "codemirror_mode": {
    "name": "ipython",
    "version": 3
   },
   "file_extension": ".py",
   "mimetype": "text/x-python",
   "name": "python",
   "nbconvert_exporter": "python",
   "pygments_lexer": "ipython3",
   "version": "3.8.8"
  },
  "orig_nbformat": 4
 },
 "nbformat": 4,
 "nbformat_minor": 2
}
